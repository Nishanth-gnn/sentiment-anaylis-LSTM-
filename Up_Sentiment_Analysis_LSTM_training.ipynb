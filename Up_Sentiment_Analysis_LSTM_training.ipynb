{
  "nbformat": 4,
  "nbformat_minor": 0,
  "metadata": {
    "colab": {
      "provenance": [],
      "gpuType": "V28"
    },
    "kernelspec": {
      "name": "python3",
      "display_name": "Python 3"
    },
    "language_info": {
      "name": "python"
    },
    "accelerator": "TPU"
  },
  "cells": [
    {
      "cell_type": "code",
      "execution_count": null,
      "metadata": {
        "colab": {
          "base_uri": "https://localhost:8080/"
        },
        "id": "1nhX2RHgJgSw",
        "outputId": "95322dc6-0058-44cf-b7b4-9988d5dd7a49"
      },
      "outputs": [
        {
          "output_type": "stream",
          "name": "stdout",
          "text": [
            "Requirement already satisfied: kaggle in /usr/local/lib/python3.12/dist-packages (1.7.4.5)\n",
            "Requirement already satisfied: bleach in /usr/local/lib/python3.12/dist-packages (from kaggle) (6.2.0)\n",
            "Requirement already satisfied: certifi>=14.05.14 in /usr/local/lib/python3.12/dist-packages (from kaggle) (2025.8.3)\n",
            "Requirement already satisfied: charset-normalizer in /usr/local/lib/python3.12/dist-packages (from kaggle) (3.4.3)\n",
            "Requirement already satisfied: idna in /usr/local/lib/python3.12/dist-packages (from kaggle) (3.10)\n",
            "Requirement already satisfied: protobuf in /usr/local/lib/python3.12/dist-packages (from kaggle) (5.29.5)\n",
            "Requirement already satisfied: python-dateutil>=2.5.3 in /usr/local/lib/python3.12/dist-packages (from kaggle) (2.9.0.post0)\n",
            "Requirement already satisfied: python-slugify in /usr/local/lib/python3.12/dist-packages (from kaggle) (8.0.4)\n",
            "Requirement already satisfied: requests in /usr/local/lib/python3.12/dist-packages (from kaggle) (2.32.3)\n",
            "Requirement already satisfied: setuptools>=21.0.0 in /usr/local/lib/python3.12/dist-packages (from kaggle) (75.2.0)\n",
            "Requirement already satisfied: six>=1.10 in /usr/local/lib/python3.12/dist-packages (from kaggle) (1.17.0)\n",
            "Requirement already satisfied: text-unidecode in /usr/local/lib/python3.12/dist-packages (from kaggle) (1.3)\n",
            "Requirement already satisfied: tqdm in /usr/local/lib/python3.12/dist-packages (from kaggle) (4.67.1)\n",
            "Requirement already satisfied: urllib3>=1.15.1 in /usr/local/lib/python3.12/dist-packages (from kaggle) (2.5.0)\n",
            "Requirement already satisfied: webencodings in /usr/local/lib/python3.12/dist-packages (from kaggle) (0.5.1)\n"
          ]
        }
      ],
      "source": [
        "! pip install kaggle"
      ]
    },
    {
      "cell_type": "code",
      "source": [
        "import os\n",
        "import json\n",
        "from zipfile import ZipFile\n",
        "import pandas as pd\n",
        "from sklearn.model_selection import train_test_split\n",
        "from tensorflow.keras.models import Sequential\n",
        "from tensorflow.keras.layers import Dense, Embedding, LSTM"
      ],
      "metadata": {
        "id": "LoayUxsZXczH"
      },
      "execution_count": null,
      "outputs": []
    },
    {
      "cell_type": "code",
      "source": [
        "from tensorflow.keras.preprocessing.text import Tokenizer\n",
        "from tensorflow.keras.preprocessing.sequence import pad_sequences"
      ],
      "metadata": {
        "id": "Zru8a4qlYmpq"
      },
      "execution_count": null,
      "outputs": []
    },
    {
      "cell_type": "code",
      "source": [
        "kaggle_dictionary= json.load(open(\"kaggle.json\"))"
      ],
      "metadata": {
        "id": "dJv3qHLFY8pE"
      },
      "execution_count": null,
      "outputs": []
    },
    {
      "cell_type": "code",
      "source": [
        "# setup kaggle credentials as environment variables\n",
        "os.environ[\"KAGGLE_USERNAME\"] = kaggle_dictionary[\"username\"]\n",
        "os.environ[\"KAGGLE_KEY\"] = kaggle_dictionary[\"key\"]"
      ],
      "metadata": {
        "id": "2Xs61cceZx6q"
      },
      "execution_count": null,
      "outputs": []
    },
    {
      "cell_type": "code",
      "source": [
        "kaggle_dictionary.keys()"
      ],
      "metadata": {
        "colab": {
          "base_uri": "https://localhost:8080/"
        },
        "id": "CiA9788aaI6m",
        "outputId": "df68510c-15fe-461c-a5d0-aeadcb2b14c2"
      },
      "execution_count": null,
      "outputs": [
        {
          "output_type": "execute_result",
          "data": {
            "text/plain": [
              "dict_keys(['username', 'key'])"
            ]
          },
          "metadata": {},
          "execution_count": 8
        }
      ]
    },
    {
      "cell_type": "code",
      "source": [
        "!kaggle datasets download -d lakshmi25npathi/imdb-dataset-of-50k-movie-reviews"
      ],
      "metadata": {
        "colab": {
          "base_uri": "https://localhost:8080/"
        },
        "id": "BILYFz99aMc-",
        "outputId": "18a3d746-dd6b-4e74-8cb7-09d182132723"
      },
      "execution_count": null,
      "outputs": [
        {
          "output_type": "stream",
          "name": "stdout",
          "text": [
            "Dataset URL: https://www.kaggle.com/datasets/lakshmi25npathi/imdb-dataset-of-50k-movie-reviews\n",
            "License(s): other\n",
            "Downloading imdb-dataset-of-50k-movie-reviews.zip to /content\n",
            "  0% 0.00/25.7M [00:00<?, ?B/s]\n",
            "100% 25.7M/25.7M [00:00<00:00, 704MB/s]\n"
          ]
        }
      ]
    },
    {
      "cell_type": "code",
      "source": [
        "# unzip the dataset file\n",
        "with ZipFile(\"imdb-dataset-of-50k-movie-reviews.zip\", \"r\") as zip_ref:\n",
        "  zip_ref.extractall()"
      ],
      "metadata": {
        "id": "FfLx6RPWaQvr"
      },
      "execution_count": null,
      "outputs": []
    },
    {
      "cell_type": "code",
      "source": [
        "data = pd.read_csv(\"/content/IMDB Dataset.csv\")"
      ],
      "metadata": {
        "id": "WA0V3veKa7Ne"
      },
      "execution_count": null,
      "outputs": []
    },
    {
      "cell_type": "code",
      "source": [
        "data.shape"
      ],
      "metadata": {
        "colab": {
          "base_uri": "https://localhost:8080/"
        },
        "id": "T4WtIs-kbBYQ",
        "outputId": "e877bd98-6a20-4036-a6b5-603e76c215e2"
      },
      "execution_count": null,
      "outputs": [
        {
          "output_type": "execute_result",
          "data": {
            "text/plain": [
              "(50000, 2)"
            ]
          },
          "metadata": {},
          "execution_count": 12
        }
      ]
    },
    {
      "cell_type": "code",
      "source": [
        "import re\n",
        "from nltk.stem import PorterStemmer\n",
        "\n",
        "ps = PorterStemmer()\n",
        "\n",
        "def preprocess(text):\n",
        "    # lowercase\n",
        "    text = text.lower()\n",
        "    # remove special characters, keep only alphabets and spaces\n",
        "    text = re.sub(r'[^a-z\\s]', '', text)\n",
        "    # stemming word by word\n",
        "    text = \" \".join(ps.stem(word) for word in text.split())\n",
        "    return text\n",
        "\n",
        "# apply on reviews\n",
        "data['review'] = data['review'].apply(preprocess)\n"
      ],
      "metadata": {
        "id": "erddnKxznb9G"
      },
      "execution_count": null,
      "outputs": []
    },
    {
      "cell_type": "code",
      "source": [
        "data.head()"
      ],
      "metadata": {
        "colab": {
          "base_uri": "https://localhost:8080/",
          "height": 206
        },
        "id": "ivkXpK8wbI2f",
        "outputId": "a1aa6927-9d01-4c2c-ba65-ce6dc18747c9"
      },
      "execution_count": null,
      "outputs": [
        {
          "output_type": "execute_result",
          "data": {
            "text/plain": [
              "                                              review sentiment\n",
              "0  one of the other review ha mention that after ...  positive\n",
              "1  a wonder littl product br br the film techniqu...  positive\n",
              "2  i thought thi wa a wonder way to spend time on...  positive\n",
              "3  basic there a famili where a littl boy jake th...  negative\n",
              "4  petter mattei love in the time of money is a v...  positive"
            ],
            "text/html": [
              "\n",
              "  <div id=\"df-5d38af3e-ad33-44b1-9790-c97845ac7c4b\" class=\"colab-df-container\">\n",
              "    <div>\n",
              "<style scoped>\n",
              "    .dataframe tbody tr th:only-of-type {\n",
              "        vertical-align: middle;\n",
              "    }\n",
              "\n",
              "    .dataframe tbody tr th {\n",
              "        vertical-align: top;\n",
              "    }\n",
              "\n",
              "    .dataframe thead th {\n",
              "        text-align: right;\n",
              "    }\n",
              "</style>\n",
              "<table border=\"1\" class=\"dataframe\">\n",
              "  <thead>\n",
              "    <tr style=\"text-align: right;\">\n",
              "      <th></th>\n",
              "      <th>review</th>\n",
              "      <th>sentiment</th>\n",
              "    </tr>\n",
              "  </thead>\n",
              "  <tbody>\n",
              "    <tr>\n",
              "      <th>0</th>\n",
              "      <td>one of the other review ha mention that after ...</td>\n",
              "      <td>positive</td>\n",
              "    </tr>\n",
              "    <tr>\n",
              "      <th>1</th>\n",
              "      <td>a wonder littl product br br the film techniqu...</td>\n",
              "      <td>positive</td>\n",
              "    </tr>\n",
              "    <tr>\n",
              "      <th>2</th>\n",
              "      <td>i thought thi wa a wonder way to spend time on...</td>\n",
              "      <td>positive</td>\n",
              "    </tr>\n",
              "    <tr>\n",
              "      <th>3</th>\n",
              "      <td>basic there a famili where a littl boy jake th...</td>\n",
              "      <td>negative</td>\n",
              "    </tr>\n",
              "    <tr>\n",
              "      <th>4</th>\n",
              "      <td>petter mattei love in the time of money is a v...</td>\n",
              "      <td>positive</td>\n",
              "    </tr>\n",
              "  </tbody>\n",
              "</table>\n",
              "</div>\n",
              "    <div class=\"colab-df-buttons\">\n",
              "\n",
              "  <div class=\"colab-df-container\">\n",
              "    <button class=\"colab-df-convert\" onclick=\"convertToInteractive('df-5d38af3e-ad33-44b1-9790-c97845ac7c4b')\"\n",
              "            title=\"Convert this dataframe to an interactive table.\"\n",
              "            style=\"display:none;\">\n",
              "\n",
              "  <svg xmlns=\"http://www.w3.org/2000/svg\" height=\"24px\" viewBox=\"0 -960 960 960\">\n",
              "    <path d=\"M120-120v-720h720v720H120Zm60-500h600v-160H180v160Zm220 220h160v-160H400v160Zm0 220h160v-160H400v160ZM180-400h160v-160H180v160Zm440 0h160v-160H620v160ZM180-180h160v-160H180v160Zm440 0h160v-160H620v160Z\"/>\n",
              "  </svg>\n",
              "    </button>\n",
              "\n",
              "  <style>\n",
              "    .colab-df-container {\n",
              "      display:flex;\n",
              "      gap: 12px;\n",
              "    }\n",
              "\n",
              "    .colab-df-convert {\n",
              "      background-color: #E8F0FE;\n",
              "      border: none;\n",
              "      border-radius: 50%;\n",
              "      cursor: pointer;\n",
              "      display: none;\n",
              "      fill: #1967D2;\n",
              "      height: 32px;\n",
              "      padding: 0 0 0 0;\n",
              "      width: 32px;\n",
              "    }\n",
              "\n",
              "    .colab-df-convert:hover {\n",
              "      background-color: #E2EBFA;\n",
              "      box-shadow: 0px 1px 2px rgba(60, 64, 67, 0.3), 0px 1px 3px 1px rgba(60, 64, 67, 0.15);\n",
              "      fill: #174EA6;\n",
              "    }\n",
              "\n",
              "    .colab-df-buttons div {\n",
              "      margin-bottom: 4px;\n",
              "    }\n",
              "\n",
              "    [theme=dark] .colab-df-convert {\n",
              "      background-color: #3B4455;\n",
              "      fill: #D2E3FC;\n",
              "    }\n",
              "\n",
              "    [theme=dark] .colab-df-convert:hover {\n",
              "      background-color: #434B5C;\n",
              "      box-shadow: 0px 1px 3px 1px rgba(0, 0, 0, 0.15);\n",
              "      filter: drop-shadow(0px 1px 2px rgba(0, 0, 0, 0.3));\n",
              "      fill: #FFFFFF;\n",
              "    }\n",
              "  </style>\n",
              "\n",
              "    <script>\n",
              "      const buttonEl =\n",
              "        document.querySelector('#df-5d38af3e-ad33-44b1-9790-c97845ac7c4b button.colab-df-convert');\n",
              "      buttonEl.style.display =\n",
              "        google.colab.kernel.accessAllowed ? 'block' : 'none';\n",
              "\n",
              "      async function convertToInteractive(key) {\n",
              "        const element = document.querySelector('#df-5d38af3e-ad33-44b1-9790-c97845ac7c4b');\n",
              "        const dataTable =\n",
              "          await google.colab.kernel.invokeFunction('convertToInteractive',\n",
              "                                                    [key], {});\n",
              "        if (!dataTable) return;\n",
              "\n",
              "        const docLinkHtml = 'Like what you see? Visit the ' +\n",
              "          '<a target=\"_blank\" href=https://colab.research.google.com/notebooks/data_table.ipynb>data table notebook</a>'\n",
              "          + ' to learn more about interactive tables.';\n",
              "        element.innerHTML = '';\n",
              "        dataTable['output_type'] = 'display_data';\n",
              "        await google.colab.output.renderOutput(dataTable, element);\n",
              "        const docLink = document.createElement('div');\n",
              "        docLink.innerHTML = docLinkHtml;\n",
              "        element.appendChild(docLink);\n",
              "      }\n",
              "    </script>\n",
              "  </div>\n",
              "\n",
              "\n",
              "    <div id=\"df-a37a602d-9e14-4f9a-a6b6-4cdaf9e5ef83\">\n",
              "      <button class=\"colab-df-quickchart\" onclick=\"quickchart('df-a37a602d-9e14-4f9a-a6b6-4cdaf9e5ef83')\"\n",
              "                title=\"Suggest charts\"\n",
              "                style=\"display:none;\">\n",
              "\n",
              "<svg xmlns=\"http://www.w3.org/2000/svg\" height=\"24px\"viewBox=\"0 0 24 24\"\n",
              "     width=\"24px\">\n",
              "    <g>\n",
              "        <path d=\"M19 3H5c-1.1 0-2 .9-2 2v14c0 1.1.9 2 2 2h14c1.1 0 2-.9 2-2V5c0-1.1-.9-2-2-2zM9 17H7v-7h2v7zm4 0h-2V7h2v10zm4 0h-2v-4h2v4z\"/>\n",
              "    </g>\n",
              "</svg>\n",
              "      </button>\n",
              "\n",
              "<style>\n",
              "  .colab-df-quickchart {\n",
              "      --bg-color: #E8F0FE;\n",
              "      --fill-color: #1967D2;\n",
              "      --hover-bg-color: #E2EBFA;\n",
              "      --hover-fill-color: #174EA6;\n",
              "      --disabled-fill-color: #AAA;\n",
              "      --disabled-bg-color: #DDD;\n",
              "  }\n",
              "\n",
              "  [theme=dark] .colab-df-quickchart {\n",
              "      --bg-color: #3B4455;\n",
              "      --fill-color: #D2E3FC;\n",
              "      --hover-bg-color: #434B5C;\n",
              "      --hover-fill-color: #FFFFFF;\n",
              "      --disabled-bg-color: #3B4455;\n",
              "      --disabled-fill-color: #666;\n",
              "  }\n",
              "\n",
              "  .colab-df-quickchart {\n",
              "    background-color: var(--bg-color);\n",
              "    border: none;\n",
              "    border-radius: 50%;\n",
              "    cursor: pointer;\n",
              "    display: none;\n",
              "    fill: var(--fill-color);\n",
              "    height: 32px;\n",
              "    padding: 0;\n",
              "    width: 32px;\n",
              "  }\n",
              "\n",
              "  .colab-df-quickchart:hover {\n",
              "    background-color: var(--hover-bg-color);\n",
              "    box-shadow: 0 1px 2px rgba(60, 64, 67, 0.3), 0 1px 3px 1px rgba(60, 64, 67, 0.15);\n",
              "    fill: var(--button-hover-fill-color);\n",
              "  }\n",
              "\n",
              "  .colab-df-quickchart-complete:disabled,\n",
              "  .colab-df-quickchart-complete:disabled:hover {\n",
              "    background-color: var(--disabled-bg-color);\n",
              "    fill: var(--disabled-fill-color);\n",
              "    box-shadow: none;\n",
              "  }\n",
              "\n",
              "  .colab-df-spinner {\n",
              "    border: 2px solid var(--fill-color);\n",
              "    border-color: transparent;\n",
              "    border-bottom-color: var(--fill-color);\n",
              "    animation:\n",
              "      spin 1s steps(1) infinite;\n",
              "  }\n",
              "\n",
              "  @keyframes spin {\n",
              "    0% {\n",
              "      border-color: transparent;\n",
              "      border-bottom-color: var(--fill-color);\n",
              "      border-left-color: var(--fill-color);\n",
              "    }\n",
              "    20% {\n",
              "      border-color: transparent;\n",
              "      border-left-color: var(--fill-color);\n",
              "      border-top-color: var(--fill-color);\n",
              "    }\n",
              "    30% {\n",
              "      border-color: transparent;\n",
              "      border-left-color: var(--fill-color);\n",
              "      border-top-color: var(--fill-color);\n",
              "      border-right-color: var(--fill-color);\n",
              "    }\n",
              "    40% {\n",
              "      border-color: transparent;\n",
              "      border-right-color: var(--fill-color);\n",
              "      border-top-color: var(--fill-color);\n",
              "    }\n",
              "    60% {\n",
              "      border-color: transparent;\n",
              "      border-right-color: var(--fill-color);\n",
              "    }\n",
              "    80% {\n",
              "      border-color: transparent;\n",
              "      border-right-color: var(--fill-color);\n",
              "      border-bottom-color: var(--fill-color);\n",
              "    }\n",
              "    90% {\n",
              "      border-color: transparent;\n",
              "      border-bottom-color: var(--fill-color);\n",
              "    }\n",
              "  }\n",
              "</style>\n",
              "\n",
              "      <script>\n",
              "        async function quickchart(key) {\n",
              "          const quickchartButtonEl =\n",
              "            document.querySelector('#' + key + ' button');\n",
              "          quickchartButtonEl.disabled = true;  // To prevent multiple clicks.\n",
              "          quickchartButtonEl.classList.add('colab-df-spinner');\n",
              "          try {\n",
              "            const charts = await google.colab.kernel.invokeFunction(\n",
              "                'suggestCharts', [key], {});\n",
              "          } catch (error) {\n",
              "            console.error('Error during call to suggestCharts:', error);\n",
              "          }\n",
              "          quickchartButtonEl.classList.remove('colab-df-spinner');\n",
              "          quickchartButtonEl.classList.add('colab-df-quickchart-complete');\n",
              "        }\n",
              "        (() => {\n",
              "          let quickchartButtonEl =\n",
              "            document.querySelector('#df-a37a602d-9e14-4f9a-a6b6-4cdaf9e5ef83 button');\n",
              "          quickchartButtonEl.style.display =\n",
              "            google.colab.kernel.accessAllowed ? 'block' : 'none';\n",
              "        })();\n",
              "      </script>\n",
              "    </div>\n",
              "\n",
              "    </div>\n",
              "  </div>\n"
            ],
            "application/vnd.google.colaboratory.intrinsic+json": {
              "type": "dataframe",
              "variable_name": "data",
              "summary": "{\n  \"name\": \"data\",\n  \"rows\": 50000,\n  \"fields\": [\n    {\n      \"column\": \"review\",\n      \"properties\": {\n        \"dtype\": \"string\",\n        \"num_unique_values\": 49580,\n        \"samples\": [\n          \"thi movi wa a modern day scarfaceit had me on my toesthi movi is one of those rare epic film that make you want a sequ especi like damian chapa hi perform deserv an academi awardwhich he deserv for hi perform in blood in blood outth onli thing i didnt like wa the behind the scene becaus it didnt show the intens that the movi hadand i would have like to have seen less narrat scenesbut the movi wa great and it is in my top ten movi of all timeplu the act wa great there wasnt a bad scene in the moviei love it jennif tilli wa perfect as well as all of the casti cant see how anyon wouldnt like thi movi it wa a greatdefinit a must see\",\n          \"extrem makeov home edit is yet anoth feelgoodi socal heart warm and outforr show that abc ha had the time to put togetherbr br i understand the troubl that these famili go through for that i am sorri but wouldnt you think that put four widescreen plasma televis three flatscreen desktop comput an inground pool take up half of a backyard and closet full of expens design cloth is a bit too excess for ani famili sure these famili have been through a lot sure they deserv nicer thing that what they had previous hadbr br but honestli the thing that ty pennington and hi crew put into these hous are enough to suit an entir neighborhoodbr br anoth thing that realli irk me about thi show is how ty and hi crew alway have someth good to say about everi littl thing that relat to the famili or the famili condit tell a wheelchairbound person that he or she is so strong or veri brave realli doe get old after a while that may sound rude but believ me watch thi show and youll see what i meanbr br all in all thi show is overr if you want to watch it go ahead thi comment is just a headsup for what youd be watch\",\n          \"whalehunt pick on the wrong freak whalebr br a group of yahoo whale exploitist captur a femal and string her up by her tailfin the whale mate see the whole thing includ the moment the femal unborn babi slip out and slop onto the deck captain nolan richard harri could tell that the big male is realli mad by the way it stare him down as if to say get out of town befor hightid br br thi stori of reveng ha harri presenc and bo beauti but not much els thi wa bo first releas film though her first act job wa four year previou in and onc upon a love releas in as fantasi direct by john derekbr br ps today the date of thi review novemb is bo derek birthday i hope bo ha a whale of a good time get it whale heehe\"\n        ],\n        \"semantic_type\": \"\",\n        \"description\": \"\"\n      }\n    },\n    {\n      \"column\": \"sentiment\",\n      \"properties\": {\n        \"dtype\": \"category\",\n        \"num_unique_values\": 2,\n        \"samples\": [\n          \"negative\",\n          \"positive\"\n        ],\n        \"semantic_type\": \"\",\n        \"description\": \"\"\n      }\n    }\n  ]\n}"
            }
          },
          "metadata": {},
          "execution_count": 14
        }
      ]
    },
    {
      "cell_type": "code",
      "source": [
        "data['sentiment'].value_counts()"
      ],
      "metadata": {
        "colab": {
          "base_uri": "https://localhost:8080/",
          "height": 178
        },
        "id": "nc0cG-inbM_6",
        "outputId": "8fddeb23-383e-47cd-ac18-4d3bbb52fbb8"
      },
      "execution_count": null,
      "outputs": [
        {
          "output_type": "execute_result",
          "data": {
            "text/plain": [
              "sentiment\n",
              "positive    25000\n",
              "negative    25000\n",
              "Name: count, dtype: int64"
            ],
            "text/html": [
              "<div>\n",
              "<style scoped>\n",
              "    .dataframe tbody tr th:only-of-type {\n",
              "        vertical-align: middle;\n",
              "    }\n",
              "\n",
              "    .dataframe tbody tr th {\n",
              "        vertical-align: top;\n",
              "    }\n",
              "\n",
              "    .dataframe thead th {\n",
              "        text-align: right;\n",
              "    }\n",
              "</style>\n",
              "<table border=\"1\" class=\"dataframe\">\n",
              "  <thead>\n",
              "    <tr style=\"text-align: right;\">\n",
              "      <th></th>\n",
              "      <th>count</th>\n",
              "    </tr>\n",
              "    <tr>\n",
              "      <th>sentiment</th>\n",
              "      <th></th>\n",
              "    </tr>\n",
              "  </thead>\n",
              "  <tbody>\n",
              "    <tr>\n",
              "      <th>positive</th>\n",
              "      <td>25000</td>\n",
              "    </tr>\n",
              "    <tr>\n",
              "      <th>negative</th>\n",
              "      <td>25000</td>\n",
              "    </tr>\n",
              "  </tbody>\n",
              "</table>\n",
              "</div><br><label><b>dtype:</b> int64</label>"
            ]
          },
          "metadata": {},
          "execution_count": 15
        }
      ]
    },
    {
      "cell_type": "code",
      "source": [
        "# replacing positive with 1 and negative with 0\n",
        "data.replace({\"sentiment\":{\"positive\":1,\"negative\":0}},inplace=True)"
      ],
      "metadata": {
        "colab": {
          "base_uri": "https://localhost:8080/"
        },
        "id": "2l-U2jIdbdg4",
        "outputId": "af7e414c-b796-4ff2-e329-e5cacd0d619e"
      },
      "execution_count": null,
      "outputs": [
        {
          "output_type": "stream",
          "name": "stderr",
          "text": [
            "/tmp/ipython-input-2310920541.py:2: FutureWarning: Downcasting behavior in `replace` is deprecated and will be removed in a future version. To retain the old behavior, explicitly call `result.infer_objects(copy=False)`. To opt-in to the future behavior, set `pd.set_option('future.no_silent_downcasting', True)`\n",
            "  data.replace({\"sentiment\":{\"positive\":1,\"negative\":0}},inplace=True)\n"
          ]
        }
      ]
    },
    {
      "cell_type": "code",
      "source": [
        "data.head()"
      ],
      "metadata": {
        "colab": {
          "base_uri": "https://localhost:8080/",
          "height": 206
        },
        "id": "bd4SgZKKcSn2",
        "outputId": "cce3fbf3-4c21-44a6-e71d-6847a7586cb9"
      },
      "execution_count": null,
      "outputs": [
        {
          "output_type": "execute_result",
          "data": {
            "text/plain": [
              "                                              review  sentiment\n",
              "0  one of the other review ha mention that after ...          1\n",
              "1  a wonder littl product br br the film techniqu...          1\n",
              "2  i thought thi wa a wonder way to spend time on...          1\n",
              "3  basic there a famili where a littl boy jake th...          0\n",
              "4  petter mattei love in the time of money is a v...          1"
            ],
            "text/html": [
              "\n",
              "  <div id=\"df-5bf039a6-92a0-4388-8acf-ef985466fd8e\" class=\"colab-df-container\">\n",
              "    <div>\n",
              "<style scoped>\n",
              "    .dataframe tbody tr th:only-of-type {\n",
              "        vertical-align: middle;\n",
              "    }\n",
              "\n",
              "    .dataframe tbody tr th {\n",
              "        vertical-align: top;\n",
              "    }\n",
              "\n",
              "    .dataframe thead th {\n",
              "        text-align: right;\n",
              "    }\n",
              "</style>\n",
              "<table border=\"1\" class=\"dataframe\">\n",
              "  <thead>\n",
              "    <tr style=\"text-align: right;\">\n",
              "      <th></th>\n",
              "      <th>review</th>\n",
              "      <th>sentiment</th>\n",
              "    </tr>\n",
              "  </thead>\n",
              "  <tbody>\n",
              "    <tr>\n",
              "      <th>0</th>\n",
              "      <td>one of the other review ha mention that after ...</td>\n",
              "      <td>1</td>\n",
              "    </tr>\n",
              "    <tr>\n",
              "      <th>1</th>\n",
              "      <td>a wonder littl product br br the film techniqu...</td>\n",
              "      <td>1</td>\n",
              "    </tr>\n",
              "    <tr>\n",
              "      <th>2</th>\n",
              "      <td>i thought thi wa a wonder way to spend time on...</td>\n",
              "      <td>1</td>\n",
              "    </tr>\n",
              "    <tr>\n",
              "      <th>3</th>\n",
              "      <td>basic there a famili where a littl boy jake th...</td>\n",
              "      <td>0</td>\n",
              "    </tr>\n",
              "    <tr>\n",
              "      <th>4</th>\n",
              "      <td>petter mattei love in the time of money is a v...</td>\n",
              "      <td>1</td>\n",
              "    </tr>\n",
              "  </tbody>\n",
              "</table>\n",
              "</div>\n",
              "    <div class=\"colab-df-buttons\">\n",
              "\n",
              "  <div class=\"colab-df-container\">\n",
              "    <button class=\"colab-df-convert\" onclick=\"convertToInteractive('df-5bf039a6-92a0-4388-8acf-ef985466fd8e')\"\n",
              "            title=\"Convert this dataframe to an interactive table.\"\n",
              "            style=\"display:none;\">\n",
              "\n",
              "  <svg xmlns=\"http://www.w3.org/2000/svg\" height=\"24px\" viewBox=\"0 -960 960 960\">\n",
              "    <path d=\"M120-120v-720h720v720H120Zm60-500h600v-160H180v160Zm220 220h160v-160H400v160Zm0 220h160v-160H400v160ZM180-400h160v-160H180v160Zm440 0h160v-160H620v160ZM180-180h160v-160H180v160Zm440 0h160v-160H620v160Z\"/>\n",
              "  </svg>\n",
              "    </button>\n",
              "\n",
              "  <style>\n",
              "    .colab-df-container {\n",
              "      display:flex;\n",
              "      gap: 12px;\n",
              "    }\n",
              "\n",
              "    .colab-df-convert {\n",
              "      background-color: #E8F0FE;\n",
              "      border: none;\n",
              "      border-radius: 50%;\n",
              "      cursor: pointer;\n",
              "      display: none;\n",
              "      fill: #1967D2;\n",
              "      height: 32px;\n",
              "      padding: 0 0 0 0;\n",
              "      width: 32px;\n",
              "    }\n",
              "\n",
              "    .colab-df-convert:hover {\n",
              "      background-color: #E2EBFA;\n",
              "      box-shadow: 0px 1px 2px rgba(60, 64, 67, 0.3), 0px 1px 3px 1px rgba(60, 64, 67, 0.15);\n",
              "      fill: #174EA6;\n",
              "    }\n",
              "\n",
              "    .colab-df-buttons div {\n",
              "      margin-bottom: 4px;\n",
              "    }\n",
              "\n",
              "    [theme=dark] .colab-df-convert {\n",
              "      background-color: #3B4455;\n",
              "      fill: #D2E3FC;\n",
              "    }\n",
              "\n",
              "    [theme=dark] .colab-df-convert:hover {\n",
              "      background-color: #434B5C;\n",
              "      box-shadow: 0px 1px 3px 1px rgba(0, 0, 0, 0.15);\n",
              "      filter: drop-shadow(0px 1px 2px rgba(0, 0, 0, 0.3));\n",
              "      fill: #FFFFFF;\n",
              "    }\n",
              "  </style>\n",
              "\n",
              "    <script>\n",
              "      const buttonEl =\n",
              "        document.querySelector('#df-5bf039a6-92a0-4388-8acf-ef985466fd8e button.colab-df-convert');\n",
              "      buttonEl.style.display =\n",
              "        google.colab.kernel.accessAllowed ? 'block' : 'none';\n",
              "\n",
              "      async function convertToInteractive(key) {\n",
              "        const element = document.querySelector('#df-5bf039a6-92a0-4388-8acf-ef985466fd8e');\n",
              "        const dataTable =\n",
              "          await google.colab.kernel.invokeFunction('convertToInteractive',\n",
              "                                                    [key], {});\n",
              "        if (!dataTable) return;\n",
              "\n",
              "        const docLinkHtml = 'Like what you see? Visit the ' +\n",
              "          '<a target=\"_blank\" href=https://colab.research.google.com/notebooks/data_table.ipynb>data table notebook</a>'\n",
              "          + ' to learn more about interactive tables.';\n",
              "        element.innerHTML = '';\n",
              "        dataTable['output_type'] = 'display_data';\n",
              "        await google.colab.output.renderOutput(dataTable, element);\n",
              "        const docLink = document.createElement('div');\n",
              "        docLink.innerHTML = docLinkHtml;\n",
              "        element.appendChild(docLink);\n",
              "      }\n",
              "    </script>\n",
              "  </div>\n",
              "\n",
              "\n",
              "    <div id=\"df-dbcde611-2a43-438f-b167-4d347ec03d8a\">\n",
              "      <button class=\"colab-df-quickchart\" onclick=\"quickchart('df-dbcde611-2a43-438f-b167-4d347ec03d8a')\"\n",
              "                title=\"Suggest charts\"\n",
              "                style=\"display:none;\">\n",
              "\n",
              "<svg xmlns=\"http://www.w3.org/2000/svg\" height=\"24px\"viewBox=\"0 0 24 24\"\n",
              "     width=\"24px\">\n",
              "    <g>\n",
              "        <path d=\"M19 3H5c-1.1 0-2 .9-2 2v14c0 1.1.9 2 2 2h14c1.1 0 2-.9 2-2V5c0-1.1-.9-2-2-2zM9 17H7v-7h2v7zm4 0h-2V7h2v10zm4 0h-2v-4h2v4z\"/>\n",
              "    </g>\n",
              "</svg>\n",
              "      </button>\n",
              "\n",
              "<style>\n",
              "  .colab-df-quickchart {\n",
              "      --bg-color: #E8F0FE;\n",
              "      --fill-color: #1967D2;\n",
              "      --hover-bg-color: #E2EBFA;\n",
              "      --hover-fill-color: #174EA6;\n",
              "      --disabled-fill-color: #AAA;\n",
              "      --disabled-bg-color: #DDD;\n",
              "  }\n",
              "\n",
              "  [theme=dark] .colab-df-quickchart {\n",
              "      --bg-color: #3B4455;\n",
              "      --fill-color: #D2E3FC;\n",
              "      --hover-bg-color: #434B5C;\n",
              "      --hover-fill-color: #FFFFFF;\n",
              "      --disabled-bg-color: #3B4455;\n",
              "      --disabled-fill-color: #666;\n",
              "  }\n",
              "\n",
              "  .colab-df-quickchart {\n",
              "    background-color: var(--bg-color);\n",
              "    border: none;\n",
              "    border-radius: 50%;\n",
              "    cursor: pointer;\n",
              "    display: none;\n",
              "    fill: var(--fill-color);\n",
              "    height: 32px;\n",
              "    padding: 0;\n",
              "    width: 32px;\n",
              "  }\n",
              "\n",
              "  .colab-df-quickchart:hover {\n",
              "    background-color: var(--hover-bg-color);\n",
              "    box-shadow: 0 1px 2px rgba(60, 64, 67, 0.3), 0 1px 3px 1px rgba(60, 64, 67, 0.15);\n",
              "    fill: var(--button-hover-fill-color);\n",
              "  }\n",
              "\n",
              "  .colab-df-quickchart-complete:disabled,\n",
              "  .colab-df-quickchart-complete:disabled:hover {\n",
              "    background-color: var(--disabled-bg-color);\n",
              "    fill: var(--disabled-fill-color);\n",
              "    box-shadow: none;\n",
              "  }\n",
              "\n",
              "  .colab-df-spinner {\n",
              "    border: 2px solid var(--fill-color);\n",
              "    border-color: transparent;\n",
              "    border-bottom-color: var(--fill-color);\n",
              "    animation:\n",
              "      spin 1s steps(1) infinite;\n",
              "  }\n",
              "\n",
              "  @keyframes spin {\n",
              "    0% {\n",
              "      border-color: transparent;\n",
              "      border-bottom-color: var(--fill-color);\n",
              "      border-left-color: var(--fill-color);\n",
              "    }\n",
              "    20% {\n",
              "      border-color: transparent;\n",
              "      border-left-color: var(--fill-color);\n",
              "      border-top-color: var(--fill-color);\n",
              "    }\n",
              "    30% {\n",
              "      border-color: transparent;\n",
              "      border-left-color: var(--fill-color);\n",
              "      border-top-color: var(--fill-color);\n",
              "      border-right-color: var(--fill-color);\n",
              "    }\n",
              "    40% {\n",
              "      border-color: transparent;\n",
              "      border-right-color: var(--fill-color);\n",
              "      border-top-color: var(--fill-color);\n",
              "    }\n",
              "    60% {\n",
              "      border-color: transparent;\n",
              "      border-right-color: var(--fill-color);\n",
              "    }\n",
              "    80% {\n",
              "      border-color: transparent;\n",
              "      border-right-color: var(--fill-color);\n",
              "      border-bottom-color: var(--fill-color);\n",
              "    }\n",
              "    90% {\n",
              "      border-color: transparent;\n",
              "      border-bottom-color: var(--fill-color);\n",
              "    }\n",
              "  }\n",
              "</style>\n",
              "\n",
              "      <script>\n",
              "        async function quickchart(key) {\n",
              "          const quickchartButtonEl =\n",
              "            document.querySelector('#' + key + ' button');\n",
              "          quickchartButtonEl.disabled = true;  // To prevent multiple clicks.\n",
              "          quickchartButtonEl.classList.add('colab-df-spinner');\n",
              "          try {\n",
              "            const charts = await google.colab.kernel.invokeFunction(\n",
              "                'suggestCharts', [key], {});\n",
              "          } catch (error) {\n",
              "            console.error('Error during call to suggestCharts:', error);\n",
              "          }\n",
              "          quickchartButtonEl.classList.remove('colab-df-spinner');\n",
              "          quickchartButtonEl.classList.add('colab-df-quickchart-complete');\n",
              "        }\n",
              "        (() => {\n",
              "          let quickchartButtonEl =\n",
              "            document.querySelector('#df-dbcde611-2a43-438f-b167-4d347ec03d8a button');\n",
              "          quickchartButtonEl.style.display =\n",
              "            google.colab.kernel.accessAllowed ? 'block' : 'none';\n",
              "        })();\n",
              "      </script>\n",
              "    </div>\n",
              "\n",
              "    </div>\n",
              "  </div>\n"
            ],
            "application/vnd.google.colaboratory.intrinsic+json": {
              "type": "dataframe",
              "variable_name": "data",
              "summary": "{\n  \"name\": \"data\",\n  \"rows\": 50000,\n  \"fields\": [\n    {\n      \"column\": \"review\",\n      \"properties\": {\n        \"dtype\": \"string\",\n        \"num_unique_values\": 49580,\n        \"samples\": [\n          \"thi movi wa a modern day scarfaceit had me on my toesthi movi is one of those rare epic film that make you want a sequ especi like damian chapa hi perform deserv an academi awardwhich he deserv for hi perform in blood in blood outth onli thing i didnt like wa the behind the scene becaus it didnt show the intens that the movi hadand i would have like to have seen less narrat scenesbut the movi wa great and it is in my top ten movi of all timeplu the act wa great there wasnt a bad scene in the moviei love it jennif tilli wa perfect as well as all of the casti cant see how anyon wouldnt like thi movi it wa a greatdefinit a must see\",\n          \"extrem makeov home edit is yet anoth feelgoodi socal heart warm and outforr show that abc ha had the time to put togetherbr br i understand the troubl that these famili go through for that i am sorri but wouldnt you think that put four widescreen plasma televis three flatscreen desktop comput an inground pool take up half of a backyard and closet full of expens design cloth is a bit too excess for ani famili sure these famili have been through a lot sure they deserv nicer thing that what they had previous hadbr br but honestli the thing that ty pennington and hi crew put into these hous are enough to suit an entir neighborhoodbr br anoth thing that realli irk me about thi show is how ty and hi crew alway have someth good to say about everi littl thing that relat to the famili or the famili condit tell a wheelchairbound person that he or she is so strong or veri brave realli doe get old after a while that may sound rude but believ me watch thi show and youll see what i meanbr br all in all thi show is overr if you want to watch it go ahead thi comment is just a headsup for what youd be watch\",\n          \"whalehunt pick on the wrong freak whalebr br a group of yahoo whale exploitist captur a femal and string her up by her tailfin the whale mate see the whole thing includ the moment the femal unborn babi slip out and slop onto the deck captain nolan richard harri could tell that the big male is realli mad by the way it stare him down as if to say get out of town befor hightid br br thi stori of reveng ha harri presenc and bo beauti but not much els thi wa bo first releas film though her first act job wa four year previou in and onc upon a love releas in as fantasi direct by john derekbr br ps today the date of thi review novemb is bo derek birthday i hope bo ha a whale of a good time get it whale heehe\"\n        ],\n        \"semantic_type\": \"\",\n        \"description\": \"\"\n      }\n    },\n    {\n      \"column\": \"sentiment\",\n      \"properties\": {\n        \"dtype\": \"number\",\n        \"std\": 0,\n        \"min\": 0,\n        \"max\": 1,\n        \"num_unique_values\": 2,\n        \"samples\": [\n          0,\n          1\n        ],\n        \"semantic_type\": \"\",\n        \"description\": \"\"\n      }\n    }\n  ]\n}"
            }
          },
          "metadata": {},
          "execution_count": 17
        }
      ]
    },
    {
      "cell_type": "code",
      "source": [],
      "metadata": {
        "id": "UULWyDOdcn5i"
      },
      "execution_count": null,
      "outputs": []
    },
    {
      "cell_type": "code",
      "source": [
        "train_data,test_data= train_test_split(data,test_size=0.2,random_state=42)"
      ],
      "metadata": {
        "id": "TuYVutGtcVTK"
      },
      "execution_count": null,
      "outputs": []
    },
    {
      "cell_type": "code",
      "source": [
        "train_data.shape"
      ],
      "metadata": {
        "colab": {
          "base_uri": "https://localhost:8080/"
        },
        "id": "Zo15dXv1dGdY",
        "outputId": "b2068a13-8e19-4a18-8638-2183e16013ff"
      },
      "execution_count": null,
      "outputs": [
        {
          "output_type": "execute_result",
          "data": {
            "text/plain": [
              "(40000, 2)"
            ]
          },
          "metadata": {},
          "execution_count": 19
        }
      ]
    },
    {
      "cell_type": "code",
      "source": [
        "test_data.shape"
      ],
      "metadata": {
        "colab": {
          "base_uri": "https://localhost:8080/"
        },
        "id": "CTL6ZHirdJHT",
        "outputId": "97d86b86-fd5a-4d75-a286-54e202304840"
      },
      "execution_count": null,
      "outputs": [
        {
          "output_type": "execute_result",
          "data": {
            "text/plain": [
              "(10000, 2)"
            ]
          },
          "metadata": {},
          "execution_count": 20
        }
      ]
    },
    {
      "cell_type": "code",
      "source": [
        "import re\n",
        "\n",
        "def clean_text(s):\n",
        "    s = s.lower()\n",
        "    s = re.sub(r\"[^a-z\\s]\", \"\", s)\n",
        "    s = re.sub(r\"\\s+\", \" \", s).strip()\n",
        "    return s\n",
        "\n",
        "cleaned_reviews = data['review'].apply(clean_text)\n",
        "\n",
        "# Tokenizer\n",
        "tr = Tokenizer()\n",
        "tr.fit_on_texts(cleaned_reviews)\n",
        "print(\"Total unique words:\", len(tr.word_index))\n",
        "\n",
        "# Find the review with max words\n",
        "lengths = cleaned_reviews.apply(lambda r: len(r.split()))\n",
        "idx = lengths.idxmax()   # index of longest review\n",
        "print(\"Max number of words in a review:\", lengths[idx])\n",
        "print(\"\\nLongest review:\\n\", data['review'][idx])   # original version\n",
        "print(\"\\nCleaned longest review:\\n\", cleaned_reviews[idx])  # cleaned version\n"
      ],
      "metadata": {
        "colab": {
          "base_uri": "https://localhost:8080/"
        },
        "id": "aAclb7uztJpD",
        "outputId": "7fc6820a-1142-4792-cd89-c2217d4f4bf2"
      },
      "execution_count": null,
      "outputs": [
        {
          "output_type": "stream",
          "name": "stdout",
          "text": [
            "Total unique words: 137631\n",
            "Max number of words in a review: 2460\n",
            "\n",
            "Longest review:\n",
            " match tag team tabl match bubba ray and spike dudley vs eddi guerrero and chri benoit bubba ray and spike dudley start thing off with a tag team tabl match against eddi guerrero and chri benoit accord to the rule of the match both oppon have to go through tabl in order to get the win benoit and guerrero heat up earli on by take turn hammer first spike and then bubba ray a german suplex by benoit to bubba took the wind out of the dudley brother spike tri to help hi brother but the refere restrain him while benoit and guerrero gang up on him in the corner with benoit stomp away on bubba guerrero set up a tabl outsid spike dash into the ring and somersault over the top rope onto guerrero on the outsid after recov and take care of spike guerrero slip a tabl into the ring and help the wolverin set it up the tandem then set up for a doubl superplex from the middl rope which would have put bubba through the tabl but spike knock the tabl over right befor hi brother came crash down guerrero and benoit prop anoth tabl in the corner and tri to irish whip spike through it but bubba dash in and block hi brother bubba caught fire and lift both oppon into back bodi drop bubba slam guerrero and spike stomp on the wolverin from off the top rope bubba held benoit at bay for spike to soar into the wassup headbutt shortli after benoit latch spike in the crossfac but the match continu even after spike tap out bubba came to hi brother rescu and manag to sprawl benoit on a tabl bubba leapt from the middl rope but benoit move and sent bubba crash through the wood but becaus hi oppon didnt forc him through the tabl bubba wa allow to stay in the match the first man wa elimin shortli after though as spike put eddi through a tabl with a dudley dawg from the ring apron to the outsid benoit put spike through a tabl moment later to even the score within second bubba nail a bubba bomb that put benoit through a tabl and gave the dudley the win winner bubba ray and spike dudleybr br match cruiserweight championship jami nobl vs billi kidman billi kidman challeng jami nobl who brought nidia with him to the ring for the cruiserweight championship nobl and kidman lock up and tumbl over the ring but race back insid and grappl some more when kidman thwart all nobl move nobl fled outsid the ring where nidia gave him some encourag the fight spread outsid the ring and nobl threw hi girlfriend into the challeng kidman toss nidia asid but wa taken down with a modifi arm bar nobl continu to attack kidman injur arm back in the ring kidman injur harm hamper hi offens but he continu to battl hard nobl tri to put kidman away with a powerbomb but the challeng counter into a facebust kidman went to finish thing with a shoot star press but nobl broke up the attempt kidman went for the shoot star press again but thi time nobl just roll out of harm way nobl flip kidman into a power bomb soon after and got the pin to retain hi wwe cruiserweight championship winner jami noblebr br match european championship william regal vs jeff hardi william regal took on jeff hardi next in an attempt to win back the european championship jeff catapult regal over the top rope then took him down with a hurracanrana off the ring apron back in the ring jeff hit the whisper in the wind to knock regal for a loop jeff went for the swanton bomb but regal got hi knee up to hit jeff with a devast shot jeff manag to surpris regal with a quick rollup though and got the pin to keep the european championship regal start bawl at see hardi celebr on hi way back up the ramp winner jeff hardybr br match chri jericho vs john cena chri jericho had promis to end john cena career in their match at vengeanc which came up next jericho tri to teach cena a lesson as their match began by suplex him to the mat jericho continu to knock cena around the ring until hi cocki got the better of him while on the top rope jericho began to showboat and allow cena to grab him for a superplex cena follow with a tiltawhirl slam but wa taken down with a nasti dropkick to the gut the rooki recov and hit a belli to belli suplex but couldnt put yj away jericho launch into the lionsault but cena dodg the move jericho nail a bulldog and then connect on the lionsault but did not go for the cover he goad cena to hi feet so he could put on the wall of jericho cena had other idea revers the move into a pin attempt and get the jericho went berserk after the match winner john cenabr br match intercontinent championship rvd vs brock lesnar via disqualif the next big thing and mr payperview tangl with the intercontinent championship on the line brock grab the titl from the ref and drape it over hi shoulder momentarili while glare at rvd van dam s quick gave brock fit earli on the big man roll out of the ring and kick the steel step out of frustrat brock pull himself togeth and began to take charg with paul heyman beam at ringsid brock slam rvd to the hard floor outsid the ring from there brock began to overpow rvd throw him with eas over the top rope rvd land pain on hi back then had to suffer from have hi spine crack against the steel ring step the fight return to the ring with brock squeez rvd around the rib rvd broke away and soon after level brock with a kick to the templ rvd follow with the roll thunder but brock manag to kick out after a twocount the fight look like it might be over soon as rvd went for a fivestar frog splash brock though hoist van dam onto hi shoulder and went for the f but rvd whirl brock into a ddt and follow with the frog splash he went for the pin but heyman pull the ref from the ring the ref immedi call for a disqualif and soon trade blow with heyman after rvd leapt onto brock from the top rope and then threaten to hit the van termin heyman grab rvd leg and brock pick up the champ and thi time connect with the f onto a steel chair winner rvdbr br match booker t vs the big show booker t face the big show oneonon next show withstood booker ts kick and punch and slap booker into the corner after be thrown from the ring booker pick up a chair at ringsid but big show punch it back into booker face booker tri to get back into the game by choke show with a camera cabl at ringsid booker smash a tv monitor from the spanish announc posit into show skull then deliv a scissor kick that put both men through the tabl booker crawl back into the ring and big show stagger in moment later show grab booker throat but wa met by a low blow and a kick to the face booker climb the top rope and nail a somersault leg drop to get the pin winner booker tbr br announc tripl h enter the ring to a thunder ovat as fan hope to learn where the game would end up compet befor he could speak eric bishoff stop the game to apolog for get involv in hi person busi if tripl h sign with raw bischoff promis hi person life would never come into play again bischoff said he spent the past two year network in hollywood he said everyon wa look for the next breakout wwe superstar and they were all talk about tripl h bischoff guarante that if tripl h sign with raw hed be get top opportun come hi way stephani mcmahon step out to issu her own pitch she said that becaus of her person histori with tripl h the two of them know each other veri well she said the two of them were onc unstopp and they can be again bischoff cut her off and beg her to stop stephani cite that tripl h onc told her how bischoff said tripl h had no talent and no charisma bischoff said he wa young at the time and didnt know what he had but he still ha a lot more experi that stephani the two continu to bicker back and forth until tripl h step up with hi microphon the game said it would be easi to say screw you to either one of them tripl h went to shake bischoff hand but pull it away he said he would rather go with the devil he know rather than the one he doesnt know befor he could go ani further though shawn michael came out to shake thing up hbk said the last thing he want to do wa caus ani troubl he didnt want to get involv but he rememb pledg to bring tripl h to the nwo hbk said there nobodi in the world that tripl h is better friend with hbk told hi friend to imagin the two back togeth again make bischoff life a live hell tripl h said that wa a tempt offer he then turn and hug hbk make offici hi switch to raw tripl h and hbk left and bischoff gloat over hi victori bischoff said the differ between the two of them is that he got testicl and she doesnt stephani whack bischoff on the side of the head and leftbr br match tag team championship match christian and lanc storm vs hollywood hogan and edg the match start with loud usa chant and with hogan shove christian through the rope and out of the ring the canadian took over from there but edg score a kick to christian head and plant a facebust on storm to get the tag to hogan hogan began to hulk up and soon caught christian with a big boot and a leg drop storm broke up the count and christian toss hogan from the ring where storm superkick the icon edg tag in soon after and drop both oppon he spear both of them into the corner turnbuckl but miss a spear on strom and hit the ref hard instead edg nail a ddt but the ref wa down and could not count test race down and took down hogan then level edg with a boot storm tri to get the pin but edg kick out after two riksihi sprint in to fend off test allow edg to recov and spear storm christian distract the ref though and yj dash in and clock edg with the tag team championship storm roll over and got the pinfal to win the titl winner and new tag team champion christian and lanc stormbr br match wwe undisput championship tripl threat match the rock vs kurt angl and the undertak three of wwe most success superstar line up against each other in a tripl threat match with the undisput championship hang in the balanc taker and the rock got face to face with kurt angl beg for some attent off to the side he got attent in the form of a beat down form the two other men soon after taker spill out of the ring and the rock brawl with angl angl gave a seri of suplex that took down rock but the great one counter with a ddt that manag a twocount the fight continu outsid the ring with taker come to life and clotheslin angl and repeatedli smack the rock taker and rock got into it back into the ring and taker drop the rock with a sidewalk slam to get a twocount rock rebound grab taker by the throat and chokeslam him angl broke up the pin attempt that like would have given the rock the titl the rock retali by latch on the ankl lock to kurt angl angl revers the move and rock bottom the peopl champion soon after the rock dispos of angl and hit the peopl elbow on the undertak angl tri to take advantag by disabl the great one outsid the ring and cover taker who kick out after a two count outsid the ring rock took a big swig from a nearbi water bottl and spew the liquid into taker face to blind the champion taker didnt stay disabl for long and manag to overpow rock and turn hi attent to angl taker land a guillotin leg drop onto angl lay on the ring apron the rock pick himself up just in time to break up a pin attempt on kurt angl taker nail rock with a ddt and set him up for a chokeslam angl tri sneak up with a steel chair but taker caught on to that tomfooleri and smack it out of hi hand the refere got caught in the ensu fire and didnt see angl knock taker silli with a steel chair angl went to cover taker as the rock lay prone but the dead man somehow got hi shoulder up angl tri to pin rock but he too kick out the rock got up and land angl in the sharpshoot angl look like he wa about to tap but taker kick the rock out of the submiss hold taker pick rock up and crash him with the last ride while the dead man cover him for the win angl race in and pick taker up in the ankl lock taker went deliri with pain but manag to counter he pick angl up for the last ride but angl put on a triangl choke it look like taker wa about to pass out but the rock broke angl hold onli to find himself caught in the ankl lock rock got out of the hold and watch taker chokeslam angl rocki hit the rock bottom but taker refus to go down and kick out angl whirl taker up into the angl slam but wa rock bottom by the great one and pin winner and new wwe champion the rockbr br final there is a decent ppv late the ppv werent veri good but thi one wa a winner i give thi ppv a abr br\n",
            "\n",
            "Cleaned longest review:\n",
            " match tag team tabl match bubba ray and spike dudley vs eddi guerrero and chri benoit bubba ray and spike dudley start thing off with a tag team tabl match against eddi guerrero and chri benoit accord to the rule of the match both oppon have to go through tabl in order to get the win benoit and guerrero heat up earli on by take turn hammer first spike and then bubba ray a german suplex by benoit to bubba took the wind out of the dudley brother spike tri to help hi brother but the refere restrain him while benoit and guerrero gang up on him in the corner with benoit stomp away on bubba guerrero set up a tabl outsid spike dash into the ring and somersault over the top rope onto guerrero on the outsid after recov and take care of spike guerrero slip a tabl into the ring and help the wolverin set it up the tandem then set up for a doubl superplex from the middl rope which would have put bubba through the tabl but spike knock the tabl over right befor hi brother came crash down guerrero and benoit prop anoth tabl in the corner and tri to irish whip spike through it but bubba dash in and block hi brother bubba caught fire and lift both oppon into back bodi drop bubba slam guerrero and spike stomp on the wolverin from off the top rope bubba held benoit at bay for spike to soar into the wassup headbutt shortli after benoit latch spike in the crossfac but the match continu even after spike tap out bubba came to hi brother rescu and manag to sprawl benoit on a tabl bubba leapt from the middl rope but benoit move and sent bubba crash through the wood but becaus hi oppon didnt forc him through the tabl bubba wa allow to stay in the match the first man wa elimin shortli after though as spike put eddi through a tabl with a dudley dawg from the ring apron to the outsid benoit put spike through a tabl moment later to even the score within second bubba nail a bubba bomb that put benoit through a tabl and gave the dudley the win winner bubba ray and spike dudleybr br match cruiserweight championship jami nobl vs billi kidman billi kidman challeng jami nobl who brought nidia with him to the ring for the cruiserweight championship nobl and kidman lock up and tumbl over the ring but race back insid and grappl some more when kidman thwart all nobl move nobl fled outsid the ring where nidia gave him some encourag the fight spread outsid the ring and nobl threw hi girlfriend into the challeng kidman toss nidia asid but wa taken down with a modifi arm bar nobl continu to attack kidman injur arm back in the ring kidman injur harm hamper hi offens but he continu to battl hard nobl tri to put kidman away with a powerbomb but the challeng counter into a facebust kidman went to finish thing with a shoot star press but nobl broke up the attempt kidman went for the shoot star press again but thi time nobl just roll out of harm way nobl flip kidman into a power bomb soon after and got the pin to retain hi wwe cruiserweight championship winner jami noblebr br match european championship william regal vs jeff hardi william regal took on jeff hardi next in an attempt to win back the european championship jeff catapult regal over the top rope then took him down with a hurracanrana off the ring apron back in the ring jeff hit the whisper in the wind to knock regal for a loop jeff went for the swanton bomb but regal got hi knee up to hit jeff with a devast shot jeff manag to surpris regal with a quick rollup though and got the pin to keep the european championship regal start bawl at see hardi celebr on hi way back up the ramp winner jeff hardybr br match chri jericho vs john cena chri jericho had promis to end john cena career in their match at vengeanc which came up next jericho tri to teach cena a lesson as their match began by suplex him to the mat jericho continu to knock cena around the ring until hi cocki got the better of him while on the top rope jericho began to showboat and allow cena to grab him for a superplex cena follow with a tiltawhirl slam but wa taken down with a nasti dropkick to the gut the rooki recov and hit a belli to belli suplex but couldnt put yj away jericho launch into the lionsault but cena dodg the move jericho nail a bulldog and then connect on the lionsault but did not go for the cover he goad cena to hi feet so he could put on the wall of jericho cena had other idea revers the move into a pin attempt and get the jericho went berserk after the match winner john cenabr br match intercontinent championship rvd vs brock lesnar via disqualif the next big thing and mr payperview tangl with the intercontinent championship on the line brock grab the titl from the ref and drape it over hi shoulder momentarili while glare at rvd van dam s quick gave brock fit earli on the big man roll out of the ring and kick the steel step out of frustrat brock pull himself togeth and began to take charg with paul heyman beam at ringsid brock slam rvd to the hard floor outsid the ring from there brock began to overpow rvd throw him with eas over the top rope rvd land pain on hi back then had to suffer from have hi spine crack against the steel ring step the fight return to the ring with brock squeez rvd around the rib rvd broke away and soon after level brock with a kick to the templ rvd follow with the roll thunder but brock manag to kick out after a twocount the fight look like it might be over soon as rvd went for a fivestar frog splash brock though hoist van dam onto hi shoulder and went for the f but rvd whirl brock into a ddt and follow with the frog splash he went for the pin but heyman pull the ref from the ring the ref immedi call for a disqualif and soon trade blow with heyman after rvd leapt onto brock from the top rope and then threaten to hit the van termin heyman grab rvd leg and brock pick up the champ and thi time connect with the f onto a steel chair winner rvdbr br match booker t vs the big show booker t face the big show oneonon next show withstood booker ts kick and punch and slap booker into the corner after be thrown from the ring booker pick up a chair at ringsid but big show punch it back into booker face booker tri to get back into the game by choke show with a camera cabl at ringsid booker smash a tv monitor from the spanish announc posit into show skull then deliv a scissor kick that put both men through the tabl booker crawl back into the ring and big show stagger in moment later show grab booker throat but wa met by a low blow and a kick to the face booker climb the top rope and nail a somersault leg drop to get the pin winner booker tbr br announc tripl h enter the ring to a thunder ovat as fan hope to learn where the game would end up compet befor he could speak eric bishoff stop the game to apolog for get involv in hi person busi if tripl h sign with raw bischoff promis hi person life would never come into play again bischoff said he spent the past two year network in hollywood he said everyon wa look for the next breakout wwe superstar and they were all talk about tripl h bischoff guarante that if tripl h sign with raw hed be get top opportun come hi way stephani mcmahon step out to issu her own pitch she said that becaus of her person histori with tripl h the two of them know each other veri well she said the two of them were onc unstopp and they can be again bischoff cut her off and beg her to stop stephani cite that tripl h onc told her how bischoff said tripl h had no talent and no charisma bischoff said he wa young at the time and didnt know what he had but he still ha a lot more experi that stephani the two continu to bicker back and forth until tripl h step up with hi microphon the game said it would be easi to say screw you to either one of them tripl h went to shake bischoff hand but pull it away he said he would rather go with the devil he know rather than the one he doesnt know befor he could go ani further though shawn michael came out to shake thing up hbk said the last thing he want to do wa caus ani troubl he didnt want to get involv but he rememb pledg to bring tripl h to the nwo hbk said there nobodi in the world that tripl h is better friend with hbk told hi friend to imagin the two back togeth again make bischoff life a live hell tripl h said that wa a tempt offer he then turn and hug hbk make offici hi switch to raw tripl h and hbk left and bischoff gloat over hi victori bischoff said the differ between the two of them is that he got testicl and she doesnt stephani whack bischoff on the side of the head and leftbr br match tag team championship match christian and lanc storm vs hollywood hogan and edg the match start with loud usa chant and with hogan shove christian through the rope and out of the ring the canadian took over from there but edg score a kick to christian head and plant a facebust on storm to get the tag to hogan hogan began to hulk up and soon caught christian with a big boot and a leg drop storm broke up the count and christian toss hogan from the ring where storm superkick the icon edg tag in soon after and drop both oppon he spear both of them into the corner turnbuckl but miss a spear on strom and hit the ref hard instead edg nail a ddt but the ref wa down and could not count test race down and took down hogan then level edg with a boot storm tri to get the pin but edg kick out after two riksihi sprint in to fend off test allow edg to recov and spear storm christian distract the ref though and yj dash in and clock edg with the tag team championship storm roll over and got the pinfal to win the titl winner and new tag team champion christian and lanc stormbr br match wwe undisput championship tripl threat match the rock vs kurt angl and the undertak three of wwe most success superstar line up against each other in a tripl threat match with the undisput championship hang in the balanc taker and the rock got face to face with kurt angl beg for some attent off to the side he got attent in the form of a beat down form the two other men soon after taker spill out of the ring and the rock brawl with angl angl gave a seri of suplex that took down rock but the great one counter with a ddt that manag a twocount the fight continu outsid the ring with taker come to life and clotheslin angl and repeatedli smack the rock taker and rock got into it back into the ring and taker drop the rock with a sidewalk slam to get a twocount rock rebound grab taker by the throat and chokeslam him angl broke up the pin attempt that like would have given the rock the titl the rock retali by latch on the ankl lock to kurt angl angl revers the move and rock bottom the peopl champion soon after the rock dispos of angl and hit the peopl elbow on the undertak angl tri to take advantag by disabl the great one outsid the ring and cover taker who kick out after a two count outsid the ring rock took a big swig from a nearbi water bottl and spew the liquid into taker face to blind the champion taker didnt stay disabl for long and manag to overpow rock and turn hi attent to angl taker land a guillotin leg drop onto angl lay on the ring apron the rock pick himself up just in time to break up a pin attempt on kurt angl taker nail rock with a ddt and set him up for a chokeslam angl tri sneak up with a steel chair but taker caught on to that tomfooleri and smack it out of hi hand the refere got caught in the ensu fire and didnt see angl knock taker silli with a steel chair angl went to cover taker as the rock lay prone but the dead man somehow got hi shoulder up angl tri to pin rock but he too kick out the rock got up and land angl in the sharpshoot angl look like he wa about to tap but taker kick the rock out of the submiss hold taker pick rock up and crash him with the last ride while the dead man cover him for the win angl race in and pick taker up in the ankl lock taker went deliri with pain but manag to counter he pick angl up for the last ride but angl put on a triangl choke it look like taker wa about to pass out but the rock broke angl hold onli to find himself caught in the ankl lock rock got out of the hold and watch taker chokeslam angl rocki hit the rock bottom but taker refus to go down and kick out angl whirl taker up into the angl slam but wa rock bottom by the great one and pin winner and new wwe champion the rockbr br final there is a decent ppv late the ppv werent veri good but thi one wa a winner i give thi ppv a abr br\n"
          ]
        }
      ]
    },
    {
      "cell_type": "code",
      "source": [
        "# tokenize the data\n",
        "tokenizer = Tokenizer(num_words=5000) # most frequent 5000 words\n",
        "tokenizer.fit_on_texts(train_data['review'])\n",
        "x_train= pad_sequences(tokenizer.texts_to_sequences(train_data['review']),maxlen=200)\n",
        "x_test= pad_sequences(tokenizer.texts_to_sequences(test_data['review']),maxlen=200)"
      ],
      "metadata": {
        "id": "-UUMqCqUdNzX"
      },
      "execution_count": null,
      "outputs": []
    },
    {
      "cell_type": "code",
      "source": [
        "y_train= train_data['sentiment']\n",
        "y_test = test_data['sentiment']"
      ],
      "metadata": {
        "id": "Yot5M4R_f_WA"
      },
      "execution_count": null,
      "outputs": []
    },
    {
      "cell_type": "code",
      "source": [
        "x_train"
      ],
      "metadata": {
        "colab": {
          "base_uri": "https://localhost:8080/"
        },
        "id": "RF2_HCKXiv1y",
        "outputId": "f108de8b-f9b7-453f-dafc-865c808e6b96"
      },
      "execution_count": null,
      "outputs": [
        {
          "output_type": "execute_result",
          "data": {
            "text/plain": [
              "array([[1088,  191,    6, ...,  235,  125, 3340],\n",
              "       [   1,  309,    6, ...,   97,   57,    7],\n",
              "       [   0,    0,    0, ...,    2,  300,   62],\n",
              "       ...,\n",
              "       [   0,    0,    0, ...,  357,    2,  677],\n",
              "       [   0,    0,    0, ...,   57,  106,  870],\n",
              "       [   0,    0,    0, ...,   69,   81, 1887]], dtype=int32)"
            ]
          },
          "metadata": {},
          "execution_count": 24
        }
      ]
    },
    {
      "cell_type": "code",
      "source": [
        "x_test"
      ],
      "metadata": {
        "colab": {
          "base_uri": "https://localhost:8080/"
        },
        "id": "mh3TT7vHi6Uw",
        "outputId": "10b75ca5-03af-4302-c507-5bc150828f15"
      },
      "execution_count": null,
      "outputs": [
        {
          "output_type": "execute_result",
          "data": {
            "text/plain": [
              "array([[   0,    0,    0, ...,  208,    7,  552],\n",
              "       [  64,   21,  522, ...,   46,    9,   12],\n",
              "       [   0,    0,    0, ...,   54,  998,   13],\n",
              "       ...,\n",
              "       [   0,    0,    0, ...,  106,  209, 1114],\n",
              "       [   0,    0,    0, ..., 1054,    1, 1317],\n",
              "       [   0,    0,    0, ...,    1,  323,   28]], dtype=int32)"
            ]
          },
          "metadata": {},
          "execution_count": 25
        }
      ]
    },
    {
      "cell_type": "code",
      "source": [
        "y_train"
      ],
      "metadata": {
        "colab": {
          "base_uri": "https://localhost:8080/",
          "height": 458
        },
        "id": "V-8x3u_djBI0",
        "outputId": "73f1d183-e334-4223-b595-06d1109068a8"
      },
      "execution_count": null,
      "outputs": [
        {
          "output_type": "execute_result",
          "data": {
            "text/plain": [
              "39087    0\n",
              "30893    0\n",
              "45278    1\n",
              "16398    0\n",
              "13653    0\n",
              "        ..\n",
              "11284    1\n",
              "44732    1\n",
              "38158    0\n",
              "860      1\n",
              "15795    1\n",
              "Name: sentiment, Length: 40000, dtype: int64"
            ],
            "text/html": [
              "<div>\n",
              "<style scoped>\n",
              "    .dataframe tbody tr th:only-of-type {\n",
              "        vertical-align: middle;\n",
              "    }\n",
              "\n",
              "    .dataframe tbody tr th {\n",
              "        vertical-align: top;\n",
              "    }\n",
              "\n",
              "    .dataframe thead th {\n",
              "        text-align: right;\n",
              "    }\n",
              "</style>\n",
              "<table border=\"1\" class=\"dataframe\">\n",
              "  <thead>\n",
              "    <tr style=\"text-align: right;\">\n",
              "      <th></th>\n",
              "      <th>sentiment</th>\n",
              "    </tr>\n",
              "  </thead>\n",
              "  <tbody>\n",
              "    <tr>\n",
              "      <th>39087</th>\n",
              "      <td>0</td>\n",
              "    </tr>\n",
              "    <tr>\n",
              "      <th>30893</th>\n",
              "      <td>0</td>\n",
              "    </tr>\n",
              "    <tr>\n",
              "      <th>45278</th>\n",
              "      <td>1</td>\n",
              "    </tr>\n",
              "    <tr>\n",
              "      <th>16398</th>\n",
              "      <td>0</td>\n",
              "    </tr>\n",
              "    <tr>\n",
              "      <th>13653</th>\n",
              "      <td>0</td>\n",
              "    </tr>\n",
              "    <tr>\n",
              "      <th>...</th>\n",
              "      <td>...</td>\n",
              "    </tr>\n",
              "    <tr>\n",
              "      <th>11284</th>\n",
              "      <td>1</td>\n",
              "    </tr>\n",
              "    <tr>\n",
              "      <th>44732</th>\n",
              "      <td>1</td>\n",
              "    </tr>\n",
              "    <tr>\n",
              "      <th>38158</th>\n",
              "      <td>0</td>\n",
              "    </tr>\n",
              "    <tr>\n",
              "      <th>860</th>\n",
              "      <td>1</td>\n",
              "    </tr>\n",
              "    <tr>\n",
              "      <th>15795</th>\n",
              "      <td>1</td>\n",
              "    </tr>\n",
              "  </tbody>\n",
              "</table>\n",
              "<p>40000 rows × 1 columns</p>\n",
              "</div><br><label><b>dtype:</b> int64</label>"
            ]
          },
          "metadata": {},
          "execution_count": 26
        }
      ]
    },
    {
      "cell_type": "code",
      "source": [
        "y_test"
      ],
      "metadata": {
        "colab": {
          "base_uri": "https://localhost:8080/",
          "height": 458
        },
        "id": "vKV5DFF6jGQ6",
        "outputId": "4cbe3f4e-d77c-4098-816c-5b70ce0d28f2"
      },
      "execution_count": null,
      "outputs": [
        {
          "output_type": "execute_result",
          "data": {
            "text/plain": [
              "33553    1\n",
              "9427     1\n",
              "199      0\n",
              "12447    1\n",
              "39489    0\n",
              "        ..\n",
              "28567    0\n",
              "25079    1\n",
              "18707    1\n",
              "15200    0\n",
              "5857     1\n",
              "Name: sentiment, Length: 10000, dtype: int64"
            ],
            "text/html": [
              "<div>\n",
              "<style scoped>\n",
              "    .dataframe tbody tr th:only-of-type {\n",
              "        vertical-align: middle;\n",
              "    }\n",
              "\n",
              "    .dataframe tbody tr th {\n",
              "        vertical-align: top;\n",
              "    }\n",
              "\n",
              "    .dataframe thead th {\n",
              "        text-align: right;\n",
              "    }\n",
              "</style>\n",
              "<table border=\"1\" class=\"dataframe\">\n",
              "  <thead>\n",
              "    <tr style=\"text-align: right;\">\n",
              "      <th></th>\n",
              "      <th>sentiment</th>\n",
              "    </tr>\n",
              "  </thead>\n",
              "  <tbody>\n",
              "    <tr>\n",
              "      <th>33553</th>\n",
              "      <td>1</td>\n",
              "    </tr>\n",
              "    <tr>\n",
              "      <th>9427</th>\n",
              "      <td>1</td>\n",
              "    </tr>\n",
              "    <tr>\n",
              "      <th>199</th>\n",
              "      <td>0</td>\n",
              "    </tr>\n",
              "    <tr>\n",
              "      <th>12447</th>\n",
              "      <td>1</td>\n",
              "    </tr>\n",
              "    <tr>\n",
              "      <th>39489</th>\n",
              "      <td>0</td>\n",
              "    </tr>\n",
              "    <tr>\n",
              "      <th>...</th>\n",
              "      <td>...</td>\n",
              "    </tr>\n",
              "    <tr>\n",
              "      <th>28567</th>\n",
              "      <td>0</td>\n",
              "    </tr>\n",
              "    <tr>\n",
              "      <th>25079</th>\n",
              "      <td>1</td>\n",
              "    </tr>\n",
              "    <tr>\n",
              "      <th>18707</th>\n",
              "      <td>1</td>\n",
              "    </tr>\n",
              "    <tr>\n",
              "      <th>15200</th>\n",
              "      <td>0</td>\n",
              "    </tr>\n",
              "    <tr>\n",
              "      <th>5857</th>\n",
              "      <td>1</td>\n",
              "    </tr>\n",
              "  </tbody>\n",
              "</table>\n",
              "<p>10000 rows × 1 columns</p>\n",
              "</div><br><label><b>dtype:</b> int64</label>"
            ]
          },
          "metadata": {},
          "execution_count": 27
        }
      ]
    },
    {
      "cell_type": "markdown",
      "source": [
        "# LSTM"
      ],
      "metadata": {
        "id": "x0FGYKPwjfot"
      }
    },
    {
      "cell_type": "code",
      "source": [
        "model = Sequential()\n",
        "model.add(Embedding(input_dim=5000,output_dim=128,input_length=200))# there are 5000 unique words\n",
        "model.add(LSTM(128,dropout=0.2, recurrent_dropout=0.2))\n",
        "model.add(Dense(1,activation='sigmoid'))"
      ],
      "metadata": {
        "colab": {
          "base_uri": "https://localhost:8080/"
        },
        "id": "wasVbhfyjPCk",
        "outputId": "5adb0b53-0d33-4f3b-e5fc-cf6d0de8d1b1"
      },
      "execution_count": null,
      "outputs": [
        {
          "output_type": "stream",
          "name": "stderr",
          "text": [
            "/usr/local/lib/python3.12/dist-packages/keras/src/layers/core/embedding.py:97: UserWarning: Argument `input_length` is deprecated. Just remove it.\n",
            "  warnings.warn(\n"
          ]
        }
      ]
    },
    {
      "cell_type": "code",
      "source": [
        "# each review is represented by numbers like [23,48,7,...]\n",
        "# each word in the review is again vectored into 128 numbers like 23=[-86,51,4,7,..]\n",
        "# finally [[(128 nums)],[(128 nums)],...] is formed\n",
        "# each word i.e each small vector is passed as input to LSTM\n",
        "# finnaly an output layer is added that gives one output"
      ],
      "metadata": {
        "id": "KT1ipWzZsEiB"
      },
      "execution_count": null,
      "outputs": []
    },
    {
      "cell_type": "code",
      "source": [
        "model.summary()"
      ],
      "metadata": {
        "colab": {
          "base_uri": "https://localhost:8080/",
          "height": 238
        },
        "id": "aGjUjOzuuzk7",
        "outputId": "18bec3cf-f304-4193-9bc5-af728558a090"
      },
      "execution_count": null,
      "outputs": [
        {
          "output_type": "display_data",
          "data": {
            "text/plain": [
              "\u001b[1mModel: \"sequential\"\u001b[0m\n"
            ],
            "text/html": [
              "<pre style=\"white-space:pre;overflow-x:auto;line-height:normal;font-family:Menlo,'DejaVu Sans Mono',consolas,'Courier New',monospace\"><span style=\"font-weight: bold\">Model: \"sequential\"</span>\n",
              "</pre>\n"
            ]
          },
          "metadata": {}
        },
        {
          "output_type": "display_data",
          "data": {
            "text/plain": [
              "┏━━━━━━━━━━━━━━━━━━━━━━━━━━━━━━━━━┳━━━━━━━━━━━━━━━━━━━━━━━━┳━━━━━━━━━━━━━━━┓\n",
              "┃\u001b[1m \u001b[0m\u001b[1mLayer (type)                   \u001b[0m\u001b[1m \u001b[0m┃\u001b[1m \u001b[0m\u001b[1mOutput Shape          \u001b[0m\u001b[1m \u001b[0m┃\u001b[1m \u001b[0m\u001b[1m      Param #\u001b[0m\u001b[1m \u001b[0m┃\n",
              "┡━━━━━━━━━━━━━━━━━━━━━━━━━━━━━━━━━╇━━━━━━━━━━━━━━━━━━━━━━━━╇━━━━━━━━━━━━━━━┩\n",
              "│ embedding (\u001b[38;5;33mEmbedding\u001b[0m)           │ ?                      │   \u001b[38;5;34m0\u001b[0m (unbuilt) │\n",
              "├─────────────────────────────────┼────────────────────────┼───────────────┤\n",
              "│ lstm (\u001b[38;5;33mLSTM\u001b[0m)                     │ ?                      │   \u001b[38;5;34m0\u001b[0m (unbuilt) │\n",
              "├─────────────────────────────────┼────────────────────────┼───────────────┤\n",
              "│ dense (\u001b[38;5;33mDense\u001b[0m)                   │ ?                      │   \u001b[38;5;34m0\u001b[0m (unbuilt) │\n",
              "└─────────────────────────────────┴────────────────────────┴───────────────┘\n"
            ],
            "text/html": [
              "<pre style=\"white-space:pre;overflow-x:auto;line-height:normal;font-family:Menlo,'DejaVu Sans Mono',consolas,'Courier New',monospace\">┏━━━━━━━━━━━━━━━━━━━━━━━━━━━━━━━━━┳━━━━━━━━━━━━━━━━━━━━━━━━┳━━━━━━━━━━━━━━━┓\n",
              "┃<span style=\"font-weight: bold\"> Layer (type)                    </span>┃<span style=\"font-weight: bold\"> Output Shape           </span>┃<span style=\"font-weight: bold\">       Param # </span>┃\n",
              "┡━━━━━━━━━━━━━━━━━━━━━━━━━━━━━━━━━╇━━━━━━━━━━━━━━━━━━━━━━━━╇━━━━━━━━━━━━━━━┩\n",
              "│ embedding (<span style=\"color: #0087ff; text-decoration-color: #0087ff\">Embedding</span>)           │ ?                      │   <span style=\"color: #00af00; text-decoration-color: #00af00\">0</span> (unbuilt) │\n",
              "├─────────────────────────────────┼────────────────────────┼───────────────┤\n",
              "│ lstm (<span style=\"color: #0087ff; text-decoration-color: #0087ff\">LSTM</span>)                     │ ?                      │   <span style=\"color: #00af00; text-decoration-color: #00af00\">0</span> (unbuilt) │\n",
              "├─────────────────────────────────┼────────────────────────┼───────────────┤\n",
              "│ dense (<span style=\"color: #0087ff; text-decoration-color: #0087ff\">Dense</span>)                   │ ?                      │   <span style=\"color: #00af00; text-decoration-color: #00af00\">0</span> (unbuilt) │\n",
              "└─────────────────────────────────┴────────────────────────┴───────────────┘\n",
              "</pre>\n"
            ]
          },
          "metadata": {}
        },
        {
          "output_type": "display_data",
          "data": {
            "text/plain": [
              "\u001b[1m Total params: \u001b[0m\u001b[38;5;34m0\u001b[0m (0.00 B)\n"
            ],
            "text/html": [
              "<pre style=\"white-space:pre;overflow-x:auto;line-height:normal;font-family:Menlo,'DejaVu Sans Mono',consolas,'Courier New',monospace\"><span style=\"font-weight: bold\"> Total params: </span><span style=\"color: #00af00; text-decoration-color: #00af00\">0</span> (0.00 B)\n",
              "</pre>\n"
            ]
          },
          "metadata": {}
        },
        {
          "output_type": "display_data",
          "data": {
            "text/plain": [
              "\u001b[1m Trainable params: \u001b[0m\u001b[38;5;34m0\u001b[0m (0.00 B)\n"
            ],
            "text/html": [
              "<pre style=\"white-space:pre;overflow-x:auto;line-height:normal;font-family:Menlo,'DejaVu Sans Mono',consolas,'Courier New',monospace\"><span style=\"font-weight: bold\"> Trainable params: </span><span style=\"color: #00af00; text-decoration-color: #00af00\">0</span> (0.00 B)\n",
              "</pre>\n"
            ]
          },
          "metadata": {}
        },
        {
          "output_type": "display_data",
          "data": {
            "text/plain": [
              "\u001b[1m Non-trainable params: \u001b[0m\u001b[38;5;34m0\u001b[0m (0.00 B)\n"
            ],
            "text/html": [
              "<pre style=\"white-space:pre;overflow-x:auto;line-height:normal;font-family:Menlo,'DejaVu Sans Mono',consolas,'Courier New',monospace\"><span style=\"font-weight: bold\"> Non-trainable params: </span><span style=\"color: #00af00; text-decoration-color: #00af00\">0</span> (0.00 B)\n",
              "</pre>\n"
            ]
          },
          "metadata": {}
        }
      ]
    },
    {
      "cell_type": "code",
      "source": [
        "model.compile(optimizer='adam',loss='binary_crossentropy',metrics=['accuracy'])"
      ],
      "metadata": {
        "id": "qT7pJWd0vsKc"
      },
      "execution_count": null,
      "outputs": []
    },
    {
      "cell_type": "code",
      "source": [
        "model.fit(x_train,y_train,epochs=5,batch_size=32,validation_split=0.2)"
      ],
      "metadata": {
        "colab": {
          "base_uri": "https://localhost:8080/"
        },
        "id": "i_magUwywiLd",
        "outputId": "9b015e46-90cc-46f5-88a3-5789ef758670"
      },
      "execution_count": null,
      "outputs": [
        {
          "output_type": "stream",
          "name": "stdout",
          "text": [
            "Epoch 1/5\n",
            "\u001b[1m1000/1000\u001b[0m \u001b[32m━━━━━━━━━━━━━━━━━━━━\u001b[0m\u001b[37m\u001b[0m \u001b[1m455s\u001b[0m 451ms/step - accuracy: 0.7025 - loss: 0.5623 - val_accuracy: 0.8396 - val_loss: 0.3846\n",
            "Epoch 2/5\n",
            "\u001b[1m1000/1000\u001b[0m \u001b[32m━━━━━━━━━━━━━━━━━━━━\u001b[0m\u001b[37m\u001b[0m \u001b[1m440s\u001b[0m 440ms/step - accuracy: 0.8445 - loss: 0.3739 - val_accuracy: 0.8626 - val_loss: 0.3336\n",
            "Epoch 3/5\n",
            "\u001b[1m1000/1000\u001b[0m \u001b[32m━━━━━━━━━━━━━━━━━━━━\u001b[0m\u001b[37m\u001b[0m \u001b[1m450s\u001b[0m 448ms/step - accuracy: 0.8781 - loss: 0.3075 - val_accuracy: 0.8677 - val_loss: 0.3285\n",
            "Epoch 4/5\n",
            "\u001b[1m1000/1000\u001b[0m \u001b[32m━━━━━━━━━━━━━━━━━━━━\u001b[0m\u001b[37m\u001b[0m \u001b[1m443s\u001b[0m 443ms/step - accuracy: 0.8912 - loss: 0.2743 - val_accuracy: 0.8704 - val_loss: 0.3183\n",
            "Epoch 5/5\n",
            "\u001b[1m1000/1000\u001b[0m \u001b[32m━━━━━━━━━━━━━━━━━━━━\u001b[0m\u001b[37m\u001b[0m \u001b[1m496s\u001b[0m 437ms/step - accuracy: 0.9130 - loss: 0.2246 - val_accuracy: 0.8626 - val_loss: 0.3690\n"
          ]
        },
        {
          "output_type": "execute_result",
          "data": {
            "text/plain": [
              "<keras.src.callbacks.history.History at 0x7e8c47faa840>"
            ]
          },
          "metadata": {},
          "execution_count": 32
        }
      ]
    },
    {
      "cell_type": "code",
      "source": [
        "loss, accuracy = model.evaluate(x_test, y_test)\n",
        "print(f\"Test Loss: {loss}\")\n",
        "print(f\"Test Accuracy: {accuracy}\")"
      ],
      "metadata": {
        "id": "FumlPi9hDJ1J",
        "colab": {
          "base_uri": "https://localhost:8080/"
        },
        "outputId": "d3b1eba9-27ff-4f82-bf13-12198f0f8911"
      },
      "execution_count": null,
      "outputs": [
        {
          "output_type": "stream",
          "name": "stdout",
          "text": [
            "\u001b[1m313/313\u001b[0m \u001b[32m━━━━━━━━━━━━━━━━━━━━\u001b[0m\u001b[37m\u001b[0m \u001b[1m24s\u001b[0m 76ms/step - accuracy: 0.8651 - loss: 0.3552\n",
            "Test Loss: 0.35390883684158325\n",
            "Test Accuracy: 0.8676000237464905\n"
          ]
        }
      ]
    },
    {
      "cell_type": "code",
      "source": [
        "def predict_sentiment(review):\n",
        "  # tokenize and pad the review\n",
        "  sequence = tokenizer.texts_to_sequences([review])\n",
        "  padded_sequence = pad_sequences(sequence, maxlen=200)\n",
        "  prediction = model.predict(padded_sequence)\n",
        "  sentiment = \"positive\" if prediction[0][0] > 0.5 else \"negative\"\n",
        "  return sentiment"
      ],
      "metadata": {
        "id": "saywy4BPFAda"
      },
      "execution_count": null,
      "outputs": []
    },
    {
      "cell_type": "code",
      "source": [
        "# example usage\n",
        "new_review = \"This movie was fantastic. I loved it.\"\n",
        "sentiment = predict_sentiment(new_review)\n",
        "print(f\"The sentiment of the review is: {sentiment}\")"
      ],
      "metadata": {
        "id": "PeRmyt80FOCP",
        "colab": {
          "base_uri": "https://localhost:8080/"
        },
        "outputId": "db833994-26da-45d1-bf3d-862d047a4e73"
      },
      "execution_count": null,
      "outputs": [
        {
          "output_type": "stream",
          "name": "stdout",
          "text": [
            "\u001b[1m1/1\u001b[0m \u001b[32m━━━━━━━━━━━━━━━━━━━━\u001b[0m\u001b[37m\u001b[0m \u001b[1m1s\u001b[0m 656ms/step\n",
            "The sentiment of the review is: negative\n"
          ]
        }
      ]
    },
    {
      "cell_type": "code",
      "source": [
        "# example usage\n",
        "new_review = \"This movie was not that good\"\n",
        "sentiment = predict_sentiment(new_review)\n",
        "print(f\"The sentiment of the review is: {sentiment}\")"
      ],
      "metadata": {
        "id": "8WBd5hGbFQCN",
        "colab": {
          "base_uri": "https://localhost:8080/"
        },
        "outputId": "b42084d5-0417-4f4e-9f53-2c264e720d0e"
      },
      "execution_count": null,
      "outputs": [
        {
          "output_type": "stream",
          "name": "stdout",
          "text": [
            "\u001b[1m1/1\u001b[0m \u001b[32m━━━━━━━━━━━━━━━━━━━━\u001b[0m\u001b[37m\u001b[0m \u001b[1m0s\u001b[0m 104ms/step\n",
            "The sentiment of the review is: negative\n"
          ]
        }
      ]
    },
    {
      "cell_type": "code",
      "source": [
        "# example usage\n",
        "new_review = \"this movie's hero is not goodlooking and the heroine is too good to be with hero but the story is not progressing at all but my friends liked the movie.I also thought it was good.\"\n",
        "sentiment = predict_sentiment(new_review)\n",
        "print(f\"The sentiment of the review is: {sentiment}\")"
      ],
      "metadata": {
        "id": "8S5ROQ0YFT-y",
        "colab": {
          "base_uri": "https://localhost:8080/"
        },
        "outputId": "c626385c-e15a-4895-c68d-1795ad8b9e0d"
      },
      "execution_count": null,
      "outputs": [
        {
          "output_type": "stream",
          "name": "stdout",
          "text": [
            "\u001b[1m1/1\u001b[0m \u001b[32m━━━━━━━━━━━━━━━━━━━━\u001b[0m\u001b[37m\u001b[0m \u001b[1m0s\u001b[0m 110ms/step\n",
            "The sentiment of the review is: positive\n"
          ]
        }
      ]
    },
    {
      "cell_type": "code",
      "source": [
        "import joblib\n",
        "import pickle"
      ],
      "metadata": {
        "id": "7i-aAZhfE0Gd"
      },
      "execution_count": null,
      "outputs": []
    },
    {
      "cell_type": "code",
      "source": [
        "pickle.dump(model, open(\"model.pkl\", \"wb\"))"
      ],
      "metadata": {
        "id": "leoRpopDE22j"
      },
      "execution_count": null,
      "outputs": []
    },
    {
      "cell_type": "code",
      "source": [
        "pickle.dump(tokenizer, open(\"tokenizer.pkl\", \"wb\"))"
      ],
      "metadata": {
        "id": "OcQcSg4JFD2U"
      },
      "execution_count": null,
      "outputs": []
    },
    {
      "cell_type": "code",
      "source": [],
      "metadata": {
        "id": "3lOAAw4_UH5D"
      },
      "execution_count": null,
      "outputs": []
    }
  ]
}
